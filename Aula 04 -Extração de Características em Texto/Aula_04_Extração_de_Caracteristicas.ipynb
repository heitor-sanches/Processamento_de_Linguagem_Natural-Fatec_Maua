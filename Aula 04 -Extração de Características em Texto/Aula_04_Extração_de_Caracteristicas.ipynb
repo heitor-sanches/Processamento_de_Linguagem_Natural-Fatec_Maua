{
  "nbformat": 4,
  "nbformat_minor": 0,
  "metadata": {
    "colab": {
      "provenance": []
    },
    "kernelspec": {
      "name": "python3",
      "display_name": "Python 3"
    },
    "language_info": {
      "name": "python"
    }
  },
  "cells": [
    {
      "cell_type": "markdown",
      "source": [
        "# Aula 04 - Extração de Características (Features) em Texto\n",
        "O objetivo deste notebook é apresentar técnicas de extração de características (features) de textos no contexto de Processamento de Linguagem Natural (PLN). A aula mostra como transformar textos em representações numéricas para que possam ser utilizadas em modelos de Machine Learning.\n",
        "\n",
        "O notebook aborda desde representações mais básicas (BoW e TF-IDF) até técnicas mais sofisticadas de embedding (Word2Vec). Também demonstra a importância do pré-processamento para garantir que a representação textual seja de qualidade para as próximas etapas da modelagem."
      ],
      "metadata": {
        "id": "poakg9jijDYM"
      }
    },
    {
      "cell_type": "markdown",
      "source": [
        "### Exemplo 1 - Implementando BOW\n",
        "\n",
        "Criar uma matriz de contagem de palavras (BoW) a partir de um corpus simples usando CountVectorizer do scikit-learn."
      ],
      "metadata": {
        "id": "3WHqhQT5jW-O"
      }
    },
    {
      "cell_type": "code",
      "execution_count": null,
      "metadata": {
        "colab": {
          "base_uri": "https://localhost:8080/"
        },
        "id": "K_L2PyHEilck",
        "outputId": "494f029e-fe9e-44b7-eb06-0031abdf9e50"
      },
      "outputs": [
        {
          "output_type": "stream",
          "name": "stdout",
          "text": [
            "Vocabulario: {'gato': 3, 'cachorro': 1, 'brinca': 0, 'com': 2, 'rato': 4}\n",
            "Matriz BoW:\n",
            "[[0 1 0 1 0]\n",
            " [1 1 1 1 0]\n",
            " [0 0 0 1 1]\n",
            " [0 1 0 1 1]\n",
            " [0 0 0 1 0]\n",
            " [0 1 0 0 1]]\n"
          ]
        }
      ],
      "source": [
        "# importando a ferramenta que irá criar a representação numérica\n",
        "from sklearn.feature_extraction.text import CountVectorizer\n",
        "\n",
        "# criando um corpus de documentos que será usado para criação do vocabulário\n",
        "documentos = [\n",
        "    \"gato e cachorro\",\n",
        "    \"gato brinca com cachorro\",\n",
        "    \"gato e rato\",\n",
        "    \"Cachorro, gato e rato\",\n",
        "    \"Gato\",\n",
        "    \"Cachorro e rato\"\n",
        "]\n",
        "# Criando um objeto para ser utilizado: transformar os documentos em vetores\n",
        "vectorizer = CountVectorizer()\n",
        "\n",
        "# Criando a matriz de contagem\n",
        "X = vectorizer.fit_transform(documentos)\n",
        "  # fit >>> cria um vocabulário das palavras\n",
        "  # transforme >>> conta a frequencia de cada palavra no corpus\n",
        "\n",
        "# Imprimindo a Matriz e o Vocabulário gerado\n",
        "print(f\"Vocabulario: {vectorizer.vocabulary_}\")\n",
        "  # realiza o mapeamento do vocabulário para um índice da matriz\n",
        "\n",
        "print(\"Matriz BoW:\")\n",
        "print(X.toarray())\n",
        "  # mostra a frequencia de cada palavra dentro da matriz"
      ]
    },
    {
      "cell_type": "markdown",
      "source": [
        "### Exemplo 2 - Implementando BOW junto com TF-IDF\n",
        "Comparar a representação de texto usando BoW e TF-IDF."
      ],
      "metadata": {
        "id": "Wpg6zrlwn4BN"
      }
    },
    {
      "cell_type": "code",
      "source": [
        "# Importando as Bibliotecas\n",
        "from sklearn.feature_extraction.text import CountVectorizer\n",
        "  # classe que transforma os documentos em vetores e realiza a contagem de frequencia\n",
        "from sklearn.feature_extraction.text import TfidfVectorizer\n",
        "  # Classe que transforma os documentos em vetores e uma contagem de frequencia ponderada\n",
        "\n",
        "# Definindo o corpus\n",
        "documentos = [\n",
        "    \"gato e cachorro\",\n",
        "    \"gato brinca com cachorro\",\n",
        "    \"gato e rato, cachorro\",\n",
        "    \"Cachorro, gato e rato\",\n",
        "    \"Gato, cachorro, cachorro\",\n",
        "    \"Cachorro e rato\"\n",
        "]\n",
        "\n",
        "# Criando o modelo BoW\n",
        "vectorizer_bow = CountVectorizer()\n",
        "  # Instanciamento da classe em objeto para ser usado\n",
        "X_bow = vectorizer_bow.fit_transform(documentos)\n",
        "  # fit >>> realizar a transformação do vocabulário\n",
        "  # transform >> transforma cada vetor em um documento com a contagem de frequência\n",
        "\n",
        "# Imprimindo o Vocabulário e a Matriz\n",
        "print(f\"Vocabulário BoW: {vectorizer_bow.vocabulary_}\")\n",
        "print(\"Matriz BoW:\")\n",
        "print(X_bow.toarray())\n",
        "\n",
        "# Criando um modelo TF-IDF\n",
        "vectorizer_tfidf = TfidfVectorizer()\n",
        "  # realiza a instanciação da classe em objeto\n",
        "X_tfidf = vectorizer_tfidf.fit_transform(documentos)\n",
        "  # fit >>> realizar a transformação do vocabulário\n",
        "  # transform >> transforma cada vetor em um documento com a contagem de frequência ponderada\n",
        "\n",
        "# Imprimindo o Vocabulário e a Matriz TF-IDF\n",
        "print(f\"\\nVocabulário TF-IDF: {vectorizer_tfidf.vocabulary_}\")\n",
        "print(\"Matriz TF-IDF\")\n",
        "print(X_tfidf.toarray())"
      ],
      "metadata": {
        "colab": {
          "base_uri": "https://localhost:8080/"
        },
        "id": "t23f1q0sn_rd",
        "outputId": "be5a9d66-b549-4fc8-ca96-e517975d1a77"
      },
      "execution_count": null,
      "outputs": [
        {
          "output_type": "stream",
          "name": "stdout",
          "text": [
            "Vocabulário BoW: {'gato': 3, 'cachorro': 1, 'brinca': 0, 'com': 2, 'rato': 4}\n",
            "Matriz BoW:\n",
            "[[0 1 0 1 0]\n",
            " [1 1 1 1 0]\n",
            " [0 1 0 1 1]\n",
            " [0 1 0 1 1]\n",
            " [0 2 0 1 0]\n",
            " [0 1 0 0 1]]\n",
            "\n",
            "Vocabulário TF-IDF: {'gato': 3, 'cachorro': 1, 'brinca': 0, 'com': 2, 'rato': 4}\n",
            "Matriz TF-IDF\n",
            "[[0.         0.65483184 0.         0.75577461 0.        ]\n",
            " [0.63763824 0.28304719 0.63763824 0.32667911 0.        ]\n",
            " [0.         0.45813442 0.         0.52875615 0.71451367]\n",
            " [0.         0.45813442 0.         0.52875615 0.71451367]\n",
            " [0.         0.8661285  0.         0.4998214  0.        ]\n",
            " [0.         0.53976033 0.         0.         0.84181874]]\n"
          ]
        }
      ]
    },
    {
      "cell_type": "markdown",
      "source": [
        "### Exemplo 3 - Realizando o Pre processamento e a Extração de características do texto\n",
        "Construção de um exemplo de pré-processamento\n",
        "e representação de texto:\n",
        "* Limpeza de dados – removendo caracteres indesejados e normalizando o texto.\n",
        "* Tokenização – dividindo o texto em palavras individuais.\n",
        "* Remoção de stopwords – eliminando palavras comuns que não carregam significado semântico importante.\n",
        "* Lematização – reduzindo as palavras à sua forma base.\n",
        "* Representação de Texto – convertendo o texto processado em uma matriz numérica usando o modelo Bag of Words."
      ],
      "metadata": {
        "id": "hBkMbC5hvvjW"
      }
    },
    {
      "cell_type": "code",
      "source": [
        "import nltk\n",
        "import re\n",
        "from nltk.corpus import stopwords\n",
        "from nltk.tokenize import word_tokenize\n",
        "from nltk.stem import WordNetLemmatizer\n",
        "from sklearn.feature_extraction.text import CountVectorizer\n",
        "\n",
        "nltk.download('punkt')\n",
        "nltk.download('stopwords')\n",
        "nltk.download('wordnet')\n",
        "nltk.download('omw-1.4')\n",
        "\n",
        "documentos = [\n",
        "    \"Os cachorros são animais muito amigáveis e leais!\",\n",
        "    \"Eu gosto de gatos porque eles são independentes e fofos.\",\n",
        "    \"Cachorros e gatos podem ser ótimos animais de estimaçãos.\"\n",
        "]\n",
        "\n",
        "lemmatizer = WordNetLemmatizer()\n",
        "stop_words = set(stopwords.words(\"portuguese\"))\n",
        "\n",
        "def preprocessar_texto(texto):\n",
        "  texto = re.sub(r'[^a-zA-Zá-ÿ\\s]','',texto)\n",
        "  tokens_tudo = word_tokenize(texto.lower())\n",
        "  tokens = [palavra for palavra in tokens_tudo if palavra not in stop_words]\n",
        "  tokens_lema = [lemmatizer.lemmatize(palavra) for palavra in tokens]\n",
        "  return ' '.join(tokens_lema)\n",
        "\n",
        "documentos_processados = [preprocessar_texto(doc) for doc in documentos]\n",
        "\n",
        "print('documentos Pré-processados:')\n",
        "for i, doc in enumerate(documentos_processados):\n",
        "  print(f\"Documento {i + 1}: {doc}\")\n",
        "\n",
        "vectorizer = CountVectorizer()\n",
        "X_bow = vectorizer.fit_transform(documentos_processados)\n",
        "\n",
        "print(\"\\nVocabulário BoW:\", vectorizer.vocabulary_)\n",
        "print(\"Matriz BoW:\")\n",
        "print(X_bow.toarray())"
      ],
      "metadata": {
        "colab": {
          "base_uri": "https://localhost:8080/"
        },
        "id": "gY8DpAZYwMFF",
        "outputId": "987ec156-8c8f-4109-8597-53aa139d34b7"
      },
      "execution_count": null,
      "outputs": [
        {
          "output_type": "stream",
          "name": "stdout",
          "text": [
            "documentos Pré-processados:\n",
            "Documento 1: cachorros animais amigáveis leais\n",
            "Documento 2: gosto gatos porque independentes fofos\n",
            "Documento 3: cachorros gatos podem ótimos animais estimaçãos\n",
            "\n",
            "Vocabulário BoW: {'cachorros': 2, 'animais': 1, 'amigáveis': 0, 'leais': 8, 'gosto': 6, 'gatos': 5, 'porque': 10, 'independentes': 7, 'fofos': 4, 'podem': 9, 'ótimos': 11, 'estimaçãos': 3}\n",
            "Matriz BoW:\n",
            "[[1 1 1 0 0 0 0 0 1 0 0 0]\n",
            " [0 0 0 0 1 1 1 1 0 0 1 0]\n",
            " [0 1 1 1 0 1 0 0 0 1 0 1]]\n"
          ]
        },
        {
          "output_type": "stream",
          "name": "stderr",
          "text": [
            "[nltk_data] Downloading package punkt to /root/nltk_data...\n",
            "[nltk_data]   Package punkt is already up-to-date!\n",
            "[nltk_data] Downloading package stopwords to /root/nltk_data...\n",
            "[nltk_data]   Package stopwords is already up-to-date!\n",
            "[nltk_data] Downloading package wordnet to /root/nltk_data...\n",
            "[nltk_data]   Package wordnet is already up-to-date!\n",
            "[nltk_data] Downloading package omw-1.4 to /root/nltk_data...\n",
            "[nltk_data]   Package omw-1.4 is already up-to-date!\n"
          ]
        }
      ]
    },
    {
      "cell_type": "markdown",
      "source": [
        "### Exemplo 4 - WordEmbedding utilizando Word2Vex\n",
        "Introduzir vetorização de palavras baseada em contexto semântico."
      ],
      "metadata": {
        "id": "26SHwQhjO-yY"
      }
    },
    {
      "cell_type": "code",
      "source": [
        "\"\"\" Algumas frases para aumentar o corpus:\n",
        "    [\"o\",\"papagaio\",\"está\",\"falando\"],\n",
        "    [\"a\",\"lhama\",\"vai\",\"cuspir\",\"em\",\"você\"],\n",
        "    [\"o\",\"cachorro\",\"gosta\",\"de\",\"bola\"],\n",
        "\"\"\"\n",
        "# Importação a Biblioteca\n",
        "from gensim.models import Word2Vec\n",
        "  # Word2Vec >>> criar os modelos de vetorização\n",
        "\n",
        "# criação do Corpus\n",
        "corpus = [\n",
        "    [\"o\",\"cachorro\",\"está\",\"dormindo\"],\n",
        "    [\"o\",\"gato\",\"está\",\"dormindo\"],\n",
        "    [\"o\",\"cachorro\",\"gosta\",\"de\",\"bola\"],\n",
        "    [\"cachorro\",\"gato\"],\n",
        "    [\"o\",\"papagaio\",\"está\",\"falando\"],\n",
        "    [\"a\",\"lhama\",\"vai\",\"cuspir\",\"em\",\"você\"]\n",
        "]\n",
        "\n",
        "# Criando o modelo de vetor\n",
        "model = Word2Vec(sentences=corpus, vector_size=100, window=3, min_count=1,sg=1)\n",
        "  # sentences = define o texto a ser transformado em vetor\n",
        "  # vector_size = define a dimensão dos vetores que representarão as palavras\n",
        "  # window = define a janela de contexto. considera as palavras antes e as palavras depois no alvo para aprender\n",
        "  # min_count = ignora as palavras que aparecer 1 vez no corpus\n",
        "  # indica o modelo utilizado\n",
        "    # 1 = skip_gram;\n",
        "    # 0 = CBOW\n",
        "\n",
        "# obtem o vetor da palavra\n",
        "vector = model.wv['cachorro']\n",
        "\n",
        "# calcula a similaridade de duas palavras\n",
        "similarity = model.wv.similarity('cachorro','gato')\n",
        "  # similaridade cosseno, qt mais próximo de 1, maior similaridade\n",
        "\n",
        "print(\"Similaridade entre 'cachorro' e 'gato': \",similarity)"
      ],
      "metadata": {
        "colab": {
          "base_uri": "https://localhost:8080/"
        },
        "id": "S5o00-wVQoPv",
        "outputId": "b13a47b0-7500-41f5-dbc5-c2d7d1362048"
      },
      "execution_count": null,
      "outputs": [
        {
          "output_type": "stream",
          "name": "stdout",
          "text": [
            "Similaridade entre 'cachorro' e 'gato':  -0.013514926\n"
          ]
        }
      ]
    },
    {
      "cell_type": "code",
      "source": [
        "from gensim.models import Word2Vec\n",
        "\n",
        "corpus = [\n",
        "    [\"o\", \"cachorro\", \"está\", \"latindo\", \"no\", \"quintal\"],\n",
        "    [\"o\", \"gato\", \"está\", \"miando\", \"no\", \"telhado\"],\n",
        "    [\"o\", \"pássaro\", \"está\", \"voando\", \"no\", \"céu\",'lua'],\n",
        "    [\"a\", \"bola\", \"está\", \"rolando\", \"no\", \"chão\"],\n",
        "    [\"a\", \"criança\", \"está\", \"brincando\", \"com\", \"o\", \"cachorro\"],\n",
        "    [\"o\", \"gato\", \"e\", \"o\", \"rato\", \"são\", \"inimigos\"],\n",
        "    [\"a\", \"água\", \"está\", \"quente\", \"na\", \"caneca\"],\n",
        "    [\"o\", \"sol\", \"está\", \"brilhando\", \"no\", \"céu\"],\n",
        "    [\"a\", \"lua\", \"está\", \"cheia\", \"hoje\",'no','céu'],\n",
        "    [\"a\", \"computador\", \"está\", \"ligado\", \"na\", \"mesa\"],\n",
        "    ['a','lua','esta','no','céu', 'lua','bonita']\n",
        "]\n",
        "\n",
        "model = Word2Vec(sentences=corpus, vector_size=100, window=5, min_count=1, sg=1)\n",
        "\n",
        "# Calculando a similaridade entre palavras\n",
        "print(f\"Similaridade entre cachorro e gato: {model.wv.similarity('cachorro', 'gato')}\")\n",
        "print(f\"Similaridade entre cachorro e bola: {model.wv.similarity('cachorro', 'bola')}\")\n",
        "print(f\"Similaridade entre céu e lua: {model.wv.similarity('céu', 'lua')}\")\n",
        "print(f\"Similaridade entre computador e mesa: {model.wv.similarity('computador', 'mesa')}\")"
      ],
      "metadata": {
        "colab": {
          "base_uri": "https://localhost:8080/"
        },
        "id": "UV-KMzpoYbew",
        "outputId": "e19680df-f96b-462e-da73-d896ab451bf4"
      },
      "execution_count": null,
      "outputs": [
        {
          "output_type": "stream",
          "name": "stdout",
          "text": [
            "Similaridade entre cachorro e gato: 0.004849772900342941\n",
            "Similaridade entre cachorro e bola: -0.08381956815719604\n",
            "Similaridade entre céu e lua: 0.13884611427783966\n",
            "Similaridade entre computador e mesa: -0.07990595698356628\n"
          ]
        }
      ]
    }
  ]
}