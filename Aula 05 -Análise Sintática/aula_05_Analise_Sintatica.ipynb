{
  "nbformat": 4,
  "nbformat_minor": 0,
  "metadata": {
    "colab": {
      "provenance": []
    },
    "kernelspec": {
      "name": "python3",
      "display_name": "Python 3"
    },
    "language_info": {
      "name": "python"
    }
  },
  "cells": [
    {
      "cell_type": "markdown",
      "source": [
        "# **Aula 05** - Análise Sintática e Estruturas Linguisticas\n"
      ],
      "metadata": {
        "id": "poakg9jijDYM"
      }
    },
    {
      "cell_type": "markdown",
      "source": [
        "##Demostração de estruturas funcionais"
      ],
      "metadata": {
        "id": "PHucYlJv6VH_"
      }
    },
    {
      "cell_type": "markdown",
      "source": [
        "## Parte 1 - Desenvolvimento conceitual - Corporas"
      ],
      "metadata": {
        "id": "EjWOrxf-gY8U"
      }
    },
    {
      "cell_type": "markdown",
      "source": [
        "## Primeira Etapa - Inicio do processamento do corpus"
      ],
      "metadata": {
        "id": "gmCTR5RDgeu0"
      }
    },
    {
      "cell_type": "code",
      "source": [
        "# criar uma funcao para fazer a abertura e leitura do aquivo\n",
        "def ler(nome_arquivo):\n",
        "  arquivo = open(nome_arquivo, 'r', encoding='utf-8')\n",
        "  conteudo_arq = arquivo.read()\n",
        "  arquivo.close()\n",
        "  return conteudo_arq"
      ],
      "metadata": {
        "id": "rxiS9kTwggmw"
      },
      "execution_count": 11,
      "outputs": []
    },
    {
      "cell_type": "code",
      "source": [
        "from google.colab import drive\n",
        "drive.mount('/content/drive')"
      ],
      "metadata": {
        "colab": {
          "base_uri": "https://localhost:8080/"
        },
        "id": "oXBBdz-AqRy_",
        "outputId": "415e4848-e4bc-4d41-88b7-c59edb5159f7"
      },
      "execution_count": 23,
      "outputs": [
        {
          "output_type": "stream",
          "name": "stdout",
          "text": [
            "Mounted at /content/drive\n"
          ]
        }
      ]
    },
    {
      "cell_type": "code",
      "source": [
        "!ls '/content/drive/MyDrive/Colab Notebooks/PLN'"
      ],
      "metadata": {
        "colab": {
          "base_uri": "https://localhost:8080/"
        },
        "id": "Swyj1I5DrO-l",
        "outputId": "2891941b-72af-4a24-8de0-ffadaed7ae76"
      },
      "execution_count": 25,
      "outputs": [
        {
          "output_type": "stream",
          "name": "stdout",
          "text": [
            "'2025.05 Ubirajara.txt'\n"
          ]
        }
      ]
    },
    {
      "cell_type": "code",
      "source": [
        "texto = ler('/content/drive/MyDrive/Colab Notebooks/PLN/2025.05 Ubirajara.txt')\n",
        "print(len(texto))"
      ],
      "metadata": {
        "colab": {
          "base_uri": "https://localhost:8080/"
        },
        "id": "nk9RtRT1miFC",
        "outputId": "d4704ad4-a410-4589-bf49-8883fe7d7a68"
      },
      "execution_count": 26,
      "outputs": [
        {
          "output_type": "stream",
          "name": "stdout",
          "text": [
            "219835\n"
          ]
        }
      ]
    },
    {
      "cell_type": "markdown",
      "source": [
        "## Buscador de palavras"
      ],
      "metadata": {
        "id": "x3tE3CRFrjwD"
      }
    },
    {
      "cell_type": "code",
      "source": [
        "def buscador(alvo, texto):\n",
        "  texto = texto.replace('\\n', ' ')\n",
        "  texto = texto.replace('\\t', ' ')\n",
        "\n",
        "  ocorrencias = []\n",
        "  encontrado_aqui = texto.find(alvo, 0)\n",
        "\n",
        "  while encontrado_aqui > 0:\n",
        "    pos_inicial = encontrado_aqui - (40 - len(alvo))\n",
        "    trecho = texto[pos_inicial: pos_inicial + 80]\n",
        "\n",
        "    ocorrencias.append(trecho)\n",
        "\n",
        "    encontrado_aqui = texto.find(alvo, encontrado_aqui + 1)\n",
        "\n",
        "  return ocorrencias"
      ],
      "metadata": {
        "id": "PrfxcZstrluZ"
      },
      "execution_count": 27,
      "outputs": []
    },
    {
      "cell_type": "code",
      "source": [
        "resultados = buscador('peito', texto)\n",
        "for resultado in resultados:\n",
        "  print(resultado)"
      ],
      "metadata": {
        "colab": {
          "base_uri": "https://localhost:8080/"
        },
        "id": "QGlnG6JCrpnd",
        "outputId": "adc51f3f-7564-4ea2-f6a5-4651ab01b0a8"
      },
      "execution_count": 28,
      "outputs": [
        {
          "output_type": "stream",
          "name": "stdout",
          "text": [
            "i o chefe tocantim quem recebeu no peito a ponta farpada.  Quando o corpo robust\n",
            " se tua arma traiçoeira me feriu o peito, o suplicio não vencerá a constancia do\n",
            "java falar; todos escutaram com respeito o heróe, ainda maior na desgraça.  --Gu\n",
            "ança, escrava de Jaguarê, cravou o peito do inimigo.  «Elle caiu, o guerreiro ch\n",
            "O labio de Jandira emudeceu; mas o peito soluçou.  A virjem conheceu que o amor \n",
            " todos dignos de teu valor. Nestes peitos, que te pertencem, ella os nutrirá com\n",
            "ndos que os botões do cardo por um peito feroz, e as mãos lijeiras que tecem os \n",
            " o acolher, todos o escutam com respeito.  «Em suas palavras prudentes, os anciã\n",
            "não quando elle não chupa mais seu peito. Ella é como a mangabeira; nutre o frut\n",
            "ente do Xingú.  As arvores que seu peito encontrava caíam lascadas.  Jurandir es\n",
            "e. Os noivos cuidavam que era a do peito do tucano; mas ella sabia que era do pe\n",
            " tucano; mas ella sabia que era do peito da arára e que tinha as côres de seu gu\n",
            "os arredores. Nada encontrou de suspeito; o rasto, que o inquietava, não chegára\n",
            "amor, e quando o leite encher seus peitos mimozos, para que ella suspenda ao col\n",
            " O grande chefe vergou a cabeça ao peito, como o cedro altaneiro batido pelo tuf\n",
            "re a cabeça de Arací:  --Itaquê respeitou a lei de hospitalidade no corpo de Ubi\n",
            "as o grito de espanto sossobrou no peito dos guerreiros, e rompeu em um grito de\n",
            "o velho guerreiro sossobrou-lhe no peito:  --O arco de Itaquê é como o gavião qu\n",
            "s do guerreiro quando se cruzam ao peito para exprimir a amizade.  Ubirajara apa\n",
            "eu guerreiro.  Ubirajara cinjiu ao peito com um e outro braço, a espoza e a virj\n",
            "336.  Póde-se ler tambem a este respeito o que diz Gabriel Soares, cit. no cap. \n",
            "abriel Soares se exprime a este respeito no cap. 152: «E como o marido lhe leva \n",
            "ilizada se observa tão profundo respeito pela união conjugal, a ponto de não con\n",
            ". VIII, que a liga vermelha e o respeito que ella inspirava indicassem guarda da\n",
            " como sua extensão, dependia do respeito que elle conseguia infundir a seus guer\n",
            "quelles sacerdotes, cercados do respeito dos guerreiros, fortes pelo prestijio d\n",
            "lações do seu culto.  Tal era o respeito que o selvajem professava pela dignidad\n",
            "sseio. Ives d'Evreux diz a este respeito: «Ils sont fort soigneux de tenir leur \n",
            "vel e _nheng_ falar.--Veja-se a respeito dos cantores, _nhengara_, o que se diss\n"
          ]
        }
      ]
    },
    {
      "cell_type": "markdown",
      "source": [
        "## Segunda Etapa - Limpeza do Corpus"
      ],
      "metadata": {
        "id": "I0ob8QOIr8uY"
      }
    },
    {
      "cell_type": "markdown",
      "source": [
        "## Descrevendo os metodos utilizados:\n",
        "\n",
        "\n",
        "*   slipt() - tranformar um texto, em uma lista de palavras\n",
        "*   strip() - eliminar sinais ou caracteres no começo ou no fim de uma palavra\n",
        "*   isalpha - realiza um filtro eliminando numeros ou simbolos de uma lista de referencias"
      ],
      "metadata": {
        "id": "rNCDkICysEFd"
      }
    },
    {
      "cell_type": "markdown",
      "source": [
        "## Quantidade de palavras\n",
        "- Conhecer a quantidade de palavras e vocabulario\n",
        "- Criar um dicionario deste texto"
      ],
      "metadata": {
        "id": "6msPHXxBt-Y-"
      }
    },
    {
      "cell_type": "markdown",
      "source": [
        "### Exemplo 1 - POS Tagging com Spacy"
      ],
      "metadata": {
        "id": "3WHqhQT5jW-O"
      }
    },
    {
      "cell_type": "code",
      "source": [
        "#pip install spacy\n",
        "!python -m spacy download pt_core_news_sm"
      ],
      "metadata": {
        "id": "qOHC7dMbDuLb",
        "colab": {
          "base_uri": "https://localhost:8080/"
        },
        "collapsed": true,
        "outputId": "a434645b-c773-4502-b07f-124c36681b10"
      },
      "execution_count": null,
      "outputs": [
        {
          "output_type": "stream",
          "name": "stdout",
          "text": [
            "Collecting pt-core-news-sm==3.8.0\n",
            "  Downloading https://github.com/explosion/spacy-models/releases/download/pt_core_news_sm-3.8.0/pt_core_news_sm-3.8.0-py3-none-any.whl (13.0 MB)\n",
            "\u001b[2K     \u001b[90m━━━━━━━━━━━━━━━━━━━━━━━━━━━━━━━━━━━━━━━━\u001b[0m \u001b[32m13.0/13.0 MB\u001b[0m \u001b[31m78.5 MB/s\u001b[0m eta \u001b[36m0:00:00\u001b[0m\n",
            "\u001b[?25hInstalling collected packages: pt-core-news-sm\n",
            "Successfully installed pt-core-news-sm-3.8.0\n",
            "\u001b[38;5;2m✔ Download and installation successful\u001b[0m\n",
            "You can now load the package via spacy.load('pt_core_news_sm')\n",
            "\u001b[38;5;3m⚠ Restart to reload dependencies\u001b[0m\n",
            "If you are in a Jupyter or Colab notebook, you may need to restart Python in\n",
            "order to load all the package's dependencies. You can do this by selecting the\n",
            "'Restart kernel' or 'Restart runtime' option.\n"
          ]
        }
      ]
    },
    {
      "cell_type": "code",
      "source": [
        "import spacy\n",
        "\n",
        "nlp = spacy.load(\"pt_core_news_sm\")\n",
        "\n",
        "frase = input(\"Insira uma frase, gramaticalmente correta: \")\n",
        "\n",
        "doc = nlp(frase)\n",
        "\n",
        "print(doc)\n",
        "\n",
        "for token in doc:\n",
        "  print(f\"{token.text} -> {token.pos_}\")"
      ],
      "metadata": {
        "colab": {
          "base_uri": "https://localhost:8080/"
        },
        "id": "azcyUqN61PN5",
        "outputId": "89b444ce-24de-4fc7-fa41-6681696e3e0b"
      },
      "execution_count": null,
      "outputs": [
        {
          "output_type": "stream",
          "name": "stdout",
          "text": [
            "Insira uma frase, gramaticalmente correta: Vamos praticar a linguagem de programação.\n",
            "Vamos praticar a linguagem de programação.\n",
            "Vamos -> AUX\n",
            "praticar -> VERB\n",
            "a -> DET\n",
            "linguagem -> NOUN\n",
            "de -> ADP\n",
            "programação -> NOUN\n",
            ". -> PUNCT\n"
          ]
        }
      ]
    },
    {
      "cell_type": "markdown",
      "source": [
        "### Exemplo 2 - Pos Tagging com NLTK (somente em inglÊs)\n",
        "\n",
        "---\n",
        "\n"
      ],
      "metadata": {
        "id": "TRCjcaLu3VPV"
      }
    },
    {
      "cell_type": "code",
      "source": [
        "!pip install nltk"
      ],
      "metadata": {
        "id": "9wltDhwFDtUV"
      },
      "execution_count": null,
      "outputs": []
    },
    {
      "cell_type": "code",
      "source": [
        "import nltk\n",
        "nltk.download(\"averaged_perceptron_tagger\")\n",
        "nltk.download('punkt_tab')\n",
        "\n",
        "frase = input(\"Insira uma frase, coerente: \")\n",
        "tokens = nltk.word_tokenize(frase)\n",
        "\n",
        "pos_tags = nltk.pos_tag(tokens)\n",
        "\n",
        "for palavra, classe in pos_tags:\n",
        "  print(f'{palavra}->{classe}')\n"
      ],
      "metadata": {
        "id": "HTSnZkFv3U9n",
        "colab": {
          "base_uri": "https://localhost:8080/"
        },
        "outputId": "3a573be0-4d34-40cc-b6e3-c343c84ab8df"
      },
      "execution_count": null,
      "outputs": [
        {
          "output_type": "stream",
          "name": "stderr",
          "text": [
            "[nltk_data] Downloading package averaged_perceptron_tagger to\n",
            "[nltk_data]     /root/nltk_data...\n",
            "[nltk_data]   Package averaged_perceptron_tagger is already up-to-\n",
            "[nltk_data]       date!\n",
            "[nltk_data] Downloading package punkt_tab to /root/nltk_data...\n",
            "[nltk_data]   Package punkt_tab is already up-to-date!\n"
          ]
        },
        {
          "output_type": "stream",
          "name": "stdout",
          "text": [
            "Insira uma frase, coerente: Good evening class, let's study NLP.\n",
            "Good->JJ\n",
            "evening->NN\n",
            "class->NN\n",
            ",->,\n",
            "let->VB\n",
            "'s->POS\n",
            "study->VB\n",
            "NLP->NNP\n",
            ".->.\n"
          ]
        }
      ]
    },
    {
      "cell_type": "markdown",
      "source": [
        "### Exemplo 3 - Parsing de Dependência com spacy"
      ],
      "metadata": {
        "id": "aZ5uAK0sFdvY"
      }
    },
    {
      "cell_type": "code",
      "source": [
        "import spacy\n",
        "\n",
        "nlp = spacy.load('pt_core_news_sm')\n",
        "\n",
        "frase = \"O gato preto dorme na cadeira\"\n",
        "\n",
        "doc = nlp(frase)\n",
        "\n",
        "for token in doc:\n",
        "  print(f\"{token.text} -> {token.dep_} -> {token.head.text}\")"
      ],
      "metadata": {
        "colab": {
          "base_uri": "https://localhost:8080/"
        },
        "id": "S3stB9LLFesi",
        "outputId": "c3779c24-1910-4fb1-80c3-6416abd501e0"
      },
      "execution_count": null,
      "outputs": [
        {
          "output_type": "stream",
          "name": "stdout",
          "text": [
            "O -> det -> gato\n",
            "gato -> ROOT -> gato\n",
            "preto -> amod -> gato\n",
            "dorme -> amod -> gato\n",
            "na -> case -> cadeira\n",
            "cadeira -> obl -> dorme\n"
          ]
        }
      ]
    },
    {
      "cell_type": "markdown",
      "source": [],
      "metadata": {
        "id": "E-6_r2O3VE4_"
      }
    },
    {
      "cell_type": "markdown",
      "source": [
        "### Exemplo 4 - Análise de Dependência com spacy"
      ],
      "metadata": {
        "id": "lD68n5JaQtfp"
      }
    },
    {
      "cell_type": "code",
      "source": [
        "import spacy\n",
        "from spacy import displacy\n",
        "\n",
        "nlp = spacy.load('pt_core_news_sm')\n",
        "\n",
        "frase = \"O gato preto dorme na cadeira.\"\n",
        "\n",
        "doc = nlp(frase)\n",
        "\n",
        "displacy.render(doc, style='dep', jupyter=True)"
      ],
      "metadata": {
        "colab": {
          "base_uri": "https://localhost:8080/",
          "height": 353
        },
        "id": "-uezB9F1Q2oy",
        "outputId": "84c447d2-631f-4a1b-a1bc-d90132412207"
      },
      "execution_count": null,
      "outputs": [
        {
          "output_type": "display_data",
          "data": {
            "text/plain": [
              "<IPython.core.display.HTML object>"
            ],
            "text/html": [
              "<span class=\"tex2jax_ignore\"><svg xmlns=\"http://www.w3.org/2000/svg\" xmlns:xlink=\"http://www.w3.org/1999/xlink\" xml:lang=\"pt\" id=\"eb0ee88a59dd453684877a0f133e4ca5-0\" class=\"displacy\" width=\"1100\" height=\"312.0\" direction=\"ltr\" style=\"max-width: none; height: 312.0px; color: #000000; background: #ffffff; font-family: Arial; direction: ltr\">\n",
              "<text class=\"displacy-token\" fill=\"currentColor\" text-anchor=\"middle\" y=\"222.0\">\n",
              "    <tspan class=\"displacy-word\" fill=\"currentColor\" x=\"50\">O</tspan>\n",
              "    <tspan class=\"displacy-tag\" dy=\"2em\" fill=\"currentColor\" x=\"50\">DET</tspan>\n",
              "</text>\n",
              "\n",
              "<text class=\"displacy-token\" fill=\"currentColor\" text-anchor=\"middle\" y=\"222.0\">\n",
              "    <tspan class=\"displacy-word\" fill=\"currentColor\" x=\"225\">gato</tspan>\n",
              "    <tspan class=\"displacy-tag\" dy=\"2em\" fill=\"currentColor\" x=\"225\">NOUN</tspan>\n",
              "</text>\n",
              "\n",
              "<text class=\"displacy-token\" fill=\"currentColor\" text-anchor=\"middle\" y=\"222.0\">\n",
              "    <tspan class=\"displacy-word\" fill=\"currentColor\" x=\"400\">preto</tspan>\n",
              "    <tspan class=\"displacy-tag\" dy=\"2em\" fill=\"currentColor\" x=\"400\">ADJ</tspan>\n",
              "</text>\n",
              "\n",
              "<text class=\"displacy-token\" fill=\"currentColor\" text-anchor=\"middle\" y=\"222.0\">\n",
              "    <tspan class=\"displacy-word\" fill=\"currentColor\" x=\"575\">dorme</tspan>\n",
              "    <tspan class=\"displacy-tag\" dy=\"2em\" fill=\"currentColor\" x=\"575\">VERB</tspan>\n",
              "</text>\n",
              "\n",
              "<text class=\"displacy-token\" fill=\"currentColor\" text-anchor=\"middle\" y=\"222.0\">\n",
              "    <tspan class=\"displacy-word\" fill=\"currentColor\" x=\"750\">na</tspan>\n",
              "    <tspan class=\"displacy-tag\" dy=\"2em\" fill=\"currentColor\" x=\"750\">ADP</tspan>\n",
              "</text>\n",
              "\n",
              "<text class=\"displacy-token\" fill=\"currentColor\" text-anchor=\"middle\" y=\"222.0\">\n",
              "    <tspan class=\"displacy-word\" fill=\"currentColor\" x=\"925\">cadeira.</tspan>\n",
              "    <tspan class=\"displacy-tag\" dy=\"2em\" fill=\"currentColor\" x=\"925\">NOUN</tspan>\n",
              "</text>\n",
              "\n",
              "<g class=\"displacy-arrow\">\n",
              "    <path class=\"displacy-arc\" id=\"arrow-eb0ee88a59dd453684877a0f133e4ca5-0-0\" stroke-width=\"2px\" d=\"M70,177.0 C70,89.5 220.0,89.5 220.0,177.0\" fill=\"none\" stroke=\"currentColor\"/>\n",
              "    <text dy=\"1.25em\" style=\"font-size: 0.8em; letter-spacing: 1px\">\n",
              "        <textPath xlink:href=\"#arrow-eb0ee88a59dd453684877a0f133e4ca5-0-0\" class=\"displacy-label\" startOffset=\"50%\" side=\"left\" fill=\"currentColor\" text-anchor=\"middle\">det</textPath>\n",
              "    </text>\n",
              "    <path class=\"displacy-arrowhead\" d=\"M70,179.0 L62,167.0 78,167.0\" fill=\"currentColor\"/>\n",
              "</g>\n",
              "\n",
              "<g class=\"displacy-arrow\">\n",
              "    <path class=\"displacy-arc\" id=\"arrow-eb0ee88a59dd453684877a0f133e4ca5-0-1\" stroke-width=\"2px\" d=\"M245,177.0 C245,89.5 395.0,89.5 395.0,177.0\" fill=\"none\" stroke=\"currentColor\"/>\n",
              "    <text dy=\"1.25em\" style=\"font-size: 0.8em; letter-spacing: 1px\">\n",
              "        <textPath xlink:href=\"#arrow-eb0ee88a59dd453684877a0f133e4ca5-0-1\" class=\"displacy-label\" startOffset=\"50%\" side=\"left\" fill=\"currentColor\" text-anchor=\"middle\">amod</textPath>\n",
              "    </text>\n",
              "    <path class=\"displacy-arrowhead\" d=\"M395.0,179.0 L403.0,167.0 387.0,167.0\" fill=\"currentColor\"/>\n",
              "</g>\n",
              "\n",
              "<g class=\"displacy-arrow\">\n",
              "    <path class=\"displacy-arc\" id=\"arrow-eb0ee88a59dd453684877a0f133e4ca5-0-2\" stroke-width=\"2px\" d=\"M245,177.0 C245,2.0 575.0,2.0 575.0,177.0\" fill=\"none\" stroke=\"currentColor\"/>\n",
              "    <text dy=\"1.25em\" style=\"font-size: 0.8em; letter-spacing: 1px\">\n",
              "        <textPath xlink:href=\"#arrow-eb0ee88a59dd453684877a0f133e4ca5-0-2\" class=\"displacy-label\" startOffset=\"50%\" side=\"left\" fill=\"currentColor\" text-anchor=\"middle\">amod</textPath>\n",
              "    </text>\n",
              "    <path class=\"displacy-arrowhead\" d=\"M575.0,179.0 L583.0,167.0 567.0,167.0\" fill=\"currentColor\"/>\n",
              "</g>\n",
              "\n",
              "<g class=\"displacy-arrow\">\n",
              "    <path class=\"displacy-arc\" id=\"arrow-eb0ee88a59dd453684877a0f133e4ca5-0-3\" stroke-width=\"2px\" d=\"M770,177.0 C770,89.5 920.0,89.5 920.0,177.0\" fill=\"none\" stroke=\"currentColor\"/>\n",
              "    <text dy=\"1.25em\" style=\"font-size: 0.8em; letter-spacing: 1px\">\n",
              "        <textPath xlink:href=\"#arrow-eb0ee88a59dd453684877a0f133e4ca5-0-3\" class=\"displacy-label\" startOffset=\"50%\" side=\"left\" fill=\"currentColor\" text-anchor=\"middle\">case</textPath>\n",
              "    </text>\n",
              "    <path class=\"displacy-arrowhead\" d=\"M770,179.0 L762,167.0 778,167.0\" fill=\"currentColor\"/>\n",
              "</g>\n",
              "\n",
              "<g class=\"displacy-arrow\">\n",
              "    <path class=\"displacy-arc\" id=\"arrow-eb0ee88a59dd453684877a0f133e4ca5-0-4\" stroke-width=\"2px\" d=\"M595,177.0 C595,2.0 925.0,2.0 925.0,177.0\" fill=\"none\" stroke=\"currentColor\"/>\n",
              "    <text dy=\"1.25em\" style=\"font-size: 0.8em; letter-spacing: 1px\">\n",
              "        <textPath xlink:href=\"#arrow-eb0ee88a59dd453684877a0f133e4ca5-0-4\" class=\"displacy-label\" startOffset=\"50%\" side=\"left\" fill=\"currentColor\" text-anchor=\"middle\">obl</textPath>\n",
              "    </text>\n",
              "    <path class=\"displacy-arrowhead\" d=\"M925.0,179.0 L933.0,167.0 917.0,167.0\" fill=\"currentColor\"/>\n",
              "</g>\n",
              "</svg></span>"
            ]
          },
          "metadata": {}
        }
      ]
    },
    {
      "cell_type": "markdown",
      "source": [
        "### Exemplo 5 - Análise de Constituência com NLTK"
      ],
      "metadata": {
        "id": "jeqCMosiRTzh"
      }
    },
    {
      "cell_type": "code",
      "source": [
        "import nltk\n",
        "from nltk import Tree\n",
        "\n",
        "sintaxe = Tree('S', [\n",
        "    Tree('NP', [Tree('DET', ['O']), Tree('N', ['gato'])]),\n",
        "    Tree('VP', [Tree('V', ['dorme']),\n",
        "                Tree('PP', [Tree('P',['na']), Tree('NP',[Tree('N', ['cadeira'])])])])\n",
        "])\n",
        "\n",
        "sintaxe.pretty_print()"
      ],
      "metadata": {
        "colab": {
          "base_uri": "https://localhost:8080/"
        },
        "id": "B7QMdM6iRdKg",
        "outputId": "adc84eef-3376-400c-e762-70389ab6f441"
      },
      "execution_count": null,
      "outputs": [
        {
          "output_type": "stream",
          "name": "stdout",
          "text": [
            "               S                  \n",
            "      _________|____               \n",
            "     |              VP            \n",
            "     |          ____|___           \n",
            "     |         |        PP        \n",
            "     |         |     ___|_____     \n",
            "     NP        |    |         NP  \n",
            "  ___|___      |    |         |    \n",
            "DET      N     V    P         N   \n",
            " |       |     |    |         |    \n",
            " O      gato dorme  na     cadeira\n",
            "\n"
          ]
        }
      ]
    },
    {
      "cell_type": "markdown",
      "source": [],
      "metadata": {
        "id": "Vj5xodRu3Loa"
      }
    }
  ]
}