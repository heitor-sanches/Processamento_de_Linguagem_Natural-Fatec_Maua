{
  "nbformat": 4,
  "nbformat_minor": 0,
  "metadata": {
    "colab": {
      "provenance": []
    },
    "kernelspec": {
      "name": "python3",
      "display_name": "Python 3"
    },
    "language_info": {
      "name": "python"
    }
  },
  "cells": [
    {
      "cell_type": "markdown",
      "source": [
        "# Projeto 03 - Análise de Relevância de Termos"
      ],
      "metadata": {
        "id": "JwJocJ6iT1ZP"
      }
    },
    {
      "cell_type": "markdown",
      "source": [
        "## Primeira Etapa - Carregamento do arquivo"
      ],
      "metadata": {
        "id": "sl1VSh-yT6mT"
      }
    },
    {
      "cell_type": "code",
      "source": [
        "import nltk\n",
        "import zipfile\n",
        "import os\n",
        "from nltk.corpus import machado\n",
        "\n",
        "nltk.download('machado')\n",
        "\n",
        "caminho_do_zip = '/root/nltk_data/corpora/machado.zip'\n",
        "pasta_destino = '/root/nltk_data/corpora'\n",
        "os.makedirs(pasta_destino, exist_ok=True)\n",
        "\n",
        "arquivo_zip = zipfile.ZipFile(caminho_do_zip, 'r')\n",
        "arquivo_zip.extractall(pasta_destino)\n",
        "\n",
        "print(f\"Arquivo {caminho_do_zip} extraído com sucesso na pasta {pasta_destino}.\")"
      ],
      "metadata": {
        "colab": {
          "base_uri": "https://localhost:8080/"
        },
        "id": "ufLYBHbmUBBA",
        "outputId": "123d2ba9-a9a3-4b47-c35f-adff286b1efa"
      },
      "execution_count": 1,
      "outputs": [
        {
          "output_type": "stream",
          "name": "stderr",
          "text": [
            "[nltk_data] Downloading package machado to /root/nltk_data...\n"
          ]
        },
        {
          "output_type": "stream",
          "name": "stdout",
          "text": [
            "Arquivo /root/nltk_data/corpora/machado.zip extraído com sucesso na pasta /root/nltk_data/corpora.\n"
          ]
        }
      ]
    },
    {
      "cell_type": "markdown",
      "source": [
        "## Segunda Etapa - Limpeza e preparação do arquivo"
      ],
      "metadata": {
        "id": "0PGYLJmtUSOm"
      }
    },
    {
      "cell_type": "code",
      "source": [
        "def ler(nome_arquivo):\n",
        "  arquivo = open(nome_arquivo,'r', encoding='ISO-8859-1')\n",
        "  conteudo_arq = arquivo.read()\n",
        "  arquivo.close()\n",
        "  return conteudo_arq"
      ],
      "metadata": {
        "id": "2ay7O5SfUafO"
      },
      "execution_count": 2,
      "outputs": []
    },
    {
      "cell_type": "code",
      "source": [
        "def limpar(lista):\n",
        "  lixo = '.,:;?!\"`()[]{}/\\|@#$%\"&*-'\n",
        "  quase_limpo = [x.strip(lixo).lower() for x in lista]\n",
        "  return [x for x in quase_limpo if x.isalpha() or '-' not in x]\n"
      ],
      "metadata": {
        "id": "BV7AcHp6UcLD"
      },
      "execution_count": 3,
      "outputs": []
    },
    {
      "cell_type": "code",
      "source": [
        "obras = []\n",
        "\n",
        "for i in range(1, 10):\n",
        "  obras.append('/root/nltk_data/corpora/machado/romance/marm0' + str(i) + '.txt')\n",
        "\n",
        "colecao = []\n",
        "\n",
        "for obra in obras:\n",
        "  print(obra)\n",
        "  texto = ler(obra)\n",
        "  palavras = limpar(texto.lower().split())\n",
        "  colecao.append(palavras)"
      ],
      "metadata": {
        "colab": {
          "base_uri": "https://localhost:8080/"
        },
        "id": "vOlyAcKgUeek",
        "outputId": "0a2d2ba2-5012-481c-ffce-e87267baa3ff"
      },
      "execution_count": 4,
      "outputs": [
        {
          "output_type": "stream",
          "name": "stdout",
          "text": [
            "/root/nltk_data/corpora/machado/romance/marm01.txt\n",
            "/root/nltk_data/corpora/machado/romance/marm02.txt\n",
            "/root/nltk_data/corpora/machado/romance/marm03.txt\n",
            "/root/nltk_data/corpora/machado/romance/marm04.txt\n",
            "/root/nltk_data/corpora/machado/romance/marm05.txt\n",
            "/root/nltk_data/corpora/machado/romance/marm06.txt\n",
            "/root/nltk_data/corpora/machado/romance/marm07.txt\n",
            "/root/nltk_data/corpora/machado/romance/marm08.txt\n",
            "/root/nltk_data/corpora/machado/romance/marm09.txt\n"
          ]
        }
      ]
    },
    {
      "cell_type": "markdown",
      "source": [
        "## Terceira Etapa - Criação dos cálculos"
      ],
      "metadata": {
        "id": "Hc2SwS8fUhBW"
      }
    },
    {
      "cell_type": "code",
      "source": [
        "import math\n",
        "\n",
        "def tf(termo, doc):\n",
        "  return colecao[doc].count(termo)\n",
        "\n",
        "def df (termo):\n",
        "  return len([d for d in colecao if termo in d])\n",
        "\n",
        "def idf(termo):\n",
        "  return math.log10(len(colecao) / df(termo))\n",
        "\n",
        "def tf_idf(termo, doc):\n",
        "  return tf(termo, doc) * idf(termo)"
      ],
      "metadata": {
        "id": "rdy5wNk2UqNb"
      },
      "execution_count": 5,
      "outputs": []
    },
    {
      "cell_type": "markdown",
      "source": [
        "## Quarta Etapa - Experimentação dos cálculos"
      ],
      "metadata": {
        "id": "ToakIhrIUlL-"
      }
    },
    {
      "cell_type": "code",
      "source": [
        "df('luva')"
      ],
      "metadata": {
        "colab": {
          "base_uri": "https://localhost:8080/"
        },
        "id": "IYWvbMH8UrrD",
        "outputId": "308f001d-b948-44f3-cf4a-a3afd4aded14"
      },
      "execution_count": 6,
      "outputs": [
        {
          "output_type": "execute_result",
          "data": {
            "text/plain": [
              "5"
            ]
          },
          "metadata": {},
          "execution_count": 6
        }
      ]
    },
    {
      "cell_type": "code",
      "source": [
        "tf_idf('luva', 2)"
      ],
      "metadata": {
        "colab": {
          "base_uri": "https://localhost:8080/"
        },
        "id": "4mEX7ki-Ut_Z",
        "outputId": "afeef684-b3d4-43c3-a068-900178df7c16"
      },
      "execution_count": 7,
      "outputs": [
        {
          "output_type": "execute_result",
          "data": {
            "text/plain": [
              "0.25527250510330607"
            ]
          },
          "metadata": {},
          "execution_count": 7
        }
      ]
    },
    {
      "cell_type": "code",
      "source": [
        "def relevantes(doc):\n",
        "  lista_total = [(tf_idf(p, doc), p) for p in set(colecao[doc])]\n",
        "\n",
        "  return sorted(lista_total, reverse=True)[:10]"
      ],
      "metadata": {
        "id": "0k15k7A_UvzT"
      },
      "execution_count": 8,
      "outputs": []
    },
    {
      "cell_type": "code",
      "source": [
        "mr = relevantes(1)\n",
        "\n",
        "mr"
      ],
      "metadata": {
        "colab": {
          "base_uri": "https://localhost:8080/"
        },
        "id": "p-mLmLghUxLO",
        "outputId": "0775b6b8-d466-4a95-f674-ab56982e4d33"
      },
      "execution_count": 9,
      "outputs": [
        {
          "output_type": "execute_result",
          "data": {
            "text/plain": [
              "[(276.7303277374042, 'guiomar'),\n",
              " (164.12971162356388, 'estevão'),\n",
              " (148.82387047522744, '\\x97'),\n",
              " (94.71581449742484, 'alves'),\n",
              " (87.79031086841789, 'oswald'),\n",
              " (86.83606835897857, 'mrs'),\n",
              " (60.748763781106966, 'jorge'),\n",
              " (43.65159837266534, 'baronesa'),\n",
              " (24.810305245422448, 'inglesa'),\n",
              " (9.144975192854812, 'afilhada')]"
            ]
          },
          "metadata": {},
          "execution_count": 9
        }
      ]
    }
  ]
}