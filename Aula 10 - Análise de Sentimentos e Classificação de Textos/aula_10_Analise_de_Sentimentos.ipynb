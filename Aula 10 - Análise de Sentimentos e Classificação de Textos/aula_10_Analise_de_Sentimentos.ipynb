{
  "nbformat": 4,
  "nbformat_minor": 0,
  "metadata": {
    "colab": {
      "provenance": []
    },
    "kernelspec": {
      "name": "python3",
      "display_name": "Python 3"
    },
    "language_info": {
      "name": "python"
    }
  },
  "cells": [
    {
      "cell_type": "markdown",
      "source": [],
      "metadata": {
        "id": "unK9BoWTmU-8"
      }
    },
    {
      "cell_type": "markdown",
      "source": [
        "#**Análise de Sentimentos e Classificação de Textos**"
      ],
      "metadata": {
        "id": "wK-2FpCQlXYV"
      }
    },
    {
      "cell_type": "markdown",
      "source": [
        "#Objetivos:\n",
        "    • Identificar diversas aplicações práticas da Análise de Sentimentos em diferentes domínios.\n",
        "    • Compreender o funcionamento básico do algoritmo Naive Bayes para classificação de textos e análise de sentimentos.\n",
        "    • Compreender o funcionamento básico do algoritmo de Árvores de Decisão para classificação de textos.\n",
        "    • Identificar diferentes abordagens para realizar análise de sentimentos."
      ],
      "metadata": {
        "id": "qUhmiK92ltrb"
      }
    },
    {
      "cell_type": "markdown",
      "source": [
        "#**Exemplos do roteiro**"
      ],
      "metadata": {
        "id": "aUMWDMKHmQBk"
      }
    },
    {
      "cell_type": "markdown",
      "source": [
        "##Exemplo 1 - Análise de sentimentos com a biblioteca NLTK"
      ],
      "metadata": {
        "id": "37yWQ99YmWnp"
      }
    },
    {
      "cell_type": "markdown",
      "source": [
        "- **Primeira etapa – Importação das bibliotecas e corpus para realizar a analise**"
      ],
      "metadata": {
        "id": "RANFuwZNm9jp"
      }
    },
    {
      "cell_type": "code",
      "execution_count": 1,
      "metadata": {
        "id": "WDnWwlK0FOjp",
        "colab": {
          "base_uri": "https://localhost:8080/"
        },
        "outputId": "2c285b70-1050-495a-d710-dc8cd37836be"
      },
      "outputs": [
        {
          "output_type": "stream",
          "name": "stderr",
          "text": [
            "[nltk_data] Downloading package vader_lexicon to /root/nltk_data...\n",
            "[nltk_data] Downloading package punkt to /root/nltk_data...\n",
            "[nltk_data]   Unzipping tokenizers/punkt.zip.\n"
          ]
        },
        {
          "output_type": "execute_result",
          "data": {
            "text/plain": [
              "True"
            ]
          },
          "metadata": {},
          "execution_count": 1
        }
      ],
      "source": [
        "# Importando as bibliotecas\n",
        "import nltk\n",
        "from nltk.sentiment.vader import SentimentIntensityAnalyzer\n",
        "\n",
        "# Certifique-se de baixar os recursos necessários do NLTK\n",
        "nltk.download('vader_lexicon')\n",
        "nltk.download('punkt')"
      ]
    },
    {
      "cell_type": "markdown",
      "source": [
        "- **Segunda etapa – Inicialização do objeto que realiza a analise e o texto a ser analisado**"
      ],
      "metadata": {
        "id": "0mt9kjkym3N-"
      }
    },
    {
      "cell_type": "code",
      "source": [
        "# Inicializando o analisador de sentimentos\n",
        "sid = SentimentIntensityAnalyzer()\n",
        "\n",
        "# Definindo os textos de exemplo para treinar o modelo\n",
        "textos = [\n",
        "    \"Este filme é incrível! Eu adorei cada minuto.\",\n",
        "    \"Odiei este filme. Foi uma perda de tempo.\",\n",
        "    \"O filme foi ok, nada de especial.\",\n",
        "    \"Estou muito feliz com o produto, funciona perfeitamente!\",\n",
        "    \"Que serviço horrível! Nunca mais compro nessa loja.\"\n",
        "]"
      ],
      "metadata": {
        "id": "3PAkgBufoUZv"
      },
      "execution_count": 2,
      "outputs": []
    },
    {
      "cell_type": "markdown",
      "source": [
        "- **Terceira etapa – Analisando os sentimentos dos textos fornecidos**"
      ],
      "metadata": {
        "id": "M15yOMD5odqz"
      }
    },
    {
      "cell_type": "code",
      "source": [
        "# Analisando os sentimentos dos textos\n",
        "for texto in textos:\n",
        "    print(f\"Texto: {texto}\")\n",
        "    ss = sid.polarity_scores(texto)\n",
        "    print(f\"Pontoação: {ss}\")\n",
        "    if ss['compound'] >= 0.05:\n",
        "        print(\"Sentimento: Positivo\")\n",
        "    elif ss['compound'] <= -0.05:\n",
        "        print(\"Sentimento: Negativo\")\n",
        "    else:\n",
        "        print(\"Sentimento: Neutro\")\n",
        "    print(\"\\n\")"
      ],
      "metadata": {
        "colab": {
          "base_uri": "https://localhost:8080/"
        },
        "id": "0Mb9EREDogvm",
        "outputId": "72080abc-4b9c-47ae-868c-6c847f98a162"
      },
      "execution_count": 3,
      "outputs": [
        {
          "output_type": "stream",
          "name": "stdout",
          "text": [
            "Texto: Este filme é incrível! Eu adorei cada minuto.\n",
            "Pontoação: {'neg': 0.0, 'neu': 1.0, 'pos': 0.0, 'compound': 0.0}\n",
            "Sentimento: Neutro\n",
            "\n",
            "\n",
            "Texto: Odiei este filme. Foi uma perda de tempo.\n",
            "Pontoação: {'neg': 0.0, 'neu': 1.0, 'pos': 0.0, 'compound': 0.0}\n",
            "Sentimento: Neutro\n",
            "\n",
            "\n",
            "Texto: O filme foi ok, nada de especial.\n",
            "Pontoação: {'neg': 0.0, 'neu': 0.694, 'pos': 0.306, 'compound': 0.296}\n",
            "Sentimento: Positivo\n",
            "\n",
            "\n",
            "Texto: Estou muito feliz com o produto, funciona perfeitamente!\n",
            "Pontoação: {'neg': 0.0, 'neu': 1.0, 'pos': 0.0, 'compound': 0.0}\n",
            "Sentimento: Neutro\n",
            "\n",
            "\n",
            "Texto: Que serviço horrível! Nunca mais compro nessa loja.\n",
            "Pontoação: {'neg': 0.0, 'neu': 1.0, 'pos': 0.0, 'compound': 0.0}\n",
            "Sentimento: Neutro\n",
            "\n",
            "\n"
          ]
        }
      ]
    },
    {
      "cell_type": "markdown",
      "source": [
        "##Exemplo 2 - Análise de sentimentos de Avaliações de Filmes com Naives Bayes"
      ],
      "metadata": {
        "id": "BsoKVa8AotM0"
      }
    },
    {
      "cell_type": "markdown",
      "source": [
        "- **Primeira etapa: Criação de funções que calculam a quantidade de palavras, e as probabilidades**"
      ],
      "metadata": {
        "id": "247Lyykno3Gk"
      }
    },
    {
      "cell_type": "code",
      "source": [
        "import numpy as np\n",
        "\n",
        "def contar_palavras(avaliacoes, sentimento):\n",
        "    \"\"\"Conta a frequência de cada palavra em avaliações de um dado sentimento.\"\"\"\n",
        "    contagem = {}\n",
        "    for avaliacao, sent in avaliacoes:\n",
        "        if sent == sentimento:\n",
        "            for palavra in avaliacao.lower().split():\n",
        "                if palavra in contagem:\n",
        "                    contagem[palavra] += 1\n",
        "                else:\n",
        "                    contagem[palavra] = 1\n",
        "    return contagem\n",
        "\n",
        "def calcular_probabilidade_sentimento(avaliacoes, sentimento):\n",
        "    \"\"\"Calcula a probabilidade de uma avaliação ser de um dado sentimento.\"\"\"\n",
        "    total_avaliacoes = len(avaliacoes)\n",
        "    contagem_sentimento = sum(1 for _, sent in avaliacoes if sent == sentimento)\n",
        "    return contagem_sentimento / total_avaliacoes\n",
        "\n",
        "def calcular_probabilidade_palavra_dado_sentimento(palavra, contagem_palavras, total_palavras_sentimento, total_palavras_vocabulario, alpha=1):\n",
        "    \"\"\"Calcula a probabilidade de uma palavra aparecer dado um sentimento (com suavização Laplace).\"\"\"\n",
        "    contagem_palavra = contagem_palavras.get(palavra, 0)\n",
        "    return (contagem_palavra + alpha) / (total_palavras_sentimento + alpha * total_palavras_vocabulario)\n"
      ],
      "metadata": {
        "id": "DRduDJ4zo8qI"
      },
      "execution_count": 4,
      "outputs": []
    },
    {
      "cell_type": "markdown",
      "source": [
        "- **Segunda etapa: Criação da função que calcula a classificação da palavra pertencer a um sentimento**"
      ],
      "metadata": {
        "id": "uXODiXcapCzA"
      }
    },
    {
      "cell_type": "code",
      "source": [
        "def classificar_avaliacao(avaliacao, avaliacoes):\n",
        "    \"\"\"Classifica o sentimento de uma nova avaliação usando Naive Bayes.\"\"\"\n",
        "\n",
        "    sentimentos = [\"Positivo\", \"Negativo\"]\n",
        "    probabilidades_sentimento = {}\n",
        "\n",
        "    # Calcular probabilidades a priori dos sentimentos\n",
        "    probabilidades_sentimento[\"Positivo\"] = calcular_probabilidade_sentimento(avaliacoes, \"Positivo\")\n",
        "    probabilidades_sentimento[\"Negativo\"] = calcular_probabilidade_sentimento(avaliacoes, \"Negativo\")\n",
        "\n",
        "    # Contar palavras em cada sentimento\n",
        "    contagem_palavras_positivo = contar_palavras(avaliacoes, \"Positivo\")\n",
        "    contagem_palavras_negativo = contar_palavras(avaliacoes, \"Negativo\")\n",
        "\n",
        "    # Calcular total de palavras em cada sentimento\n",
        "    total_palavras_positivo = sum(contagem_palavras_positivo.values())\n",
        "    total_palavras_negativo = sum(contagem_palavras_negativo.values())\n",
        "\n",
        "    # Calcular tamanho do vocabulário\n",
        "    vocabulario = set()\n",
        "    for avaliacao, _ in avaliacoes:\n",
        "        for palavra in avaliacao.lower().split():\n",
        "            vocabulario.add(palavra)\n",
        "    total_palavras_vocabulario = len(vocabulario)\n",
        "\n",
        "    # Calcular probabilidades para cada sentimento\n",
        "    for sentimento in sentimentos:\n",
        "        probabilidade_total = probabilidades_sentimento[sentimento]\n",
        "        contagem_palavras_sentimento = contagem_palavras_positivo if sentimento == \"Positivo\" else contagem_palavras_negativo\n",
        "        total_palavras_sentimento = total_palavras_positivo if sentimento == \"Positivo\" else total_palavras_negativo\n",
        "\n",
        "        for palavra in avaliacao.lower().split():\n",
        "            probabilidade_palavra = calcular_probabilidade_palavra_dado_sentimento(\n",
        "                palavra, contagem_palavras_sentimento, total_palavras_sentimento, total_palavras_vocabulario\n",
        "            )\n",
        "            probabilidade_total *= probabilidade_palavra\n",
        "        probabilidades_sentimento[sentimento] = probabilidade_total\n",
        "\n",
        "    # Classificar com base na maior probabilidade\n",
        "    melhor_sentimento = max(probabilidades_sentimento, key=probabilidades_sentimento.get)\n",
        "    return melhor_sentimento\n"
      ],
      "metadata": {
        "id": "d96l1F1IpGpm"
      },
      "execution_count": 5,
      "outputs": []
    },
    {
      "cell_type": "markdown",
      "source": [
        "- **Terceira Etapa – Fornecimento de um modelo para treinamento**"
      ],
      "metadata": {
        "id": "qGHB8N7QpgTg"
      }
    },
    {
      "cell_type": "code",
      "source": [
        "avaliacoes = [\n",
        "  (\"Filme incrível! Adorei a atuação.\", \"Positivo\"),\n",
        "  (\"Roteiro fraco, não recomendo.\", \"Negativo\"),\n",
        "  (\"Atuação boa, mas filme longo.\", \"Positivo\"),\n",
        "  (\"Péssimo! Perdi meu tempo.\", \"Negativo\"),\n",
        "]"
      ],
      "metadata": {
        "id": "DgKCMVLIpZM1"
      },
      "execution_count": 7,
      "outputs": []
    },
    {
      "cell_type": "markdown",
      "source": [
        "- **Quarta etapa  - Fornecendo um frase para ser avaliada**"
      ],
      "metadata": {
        "id": "EXsfilC6p3eD"
      }
    },
    {
      "cell_type": "code",
      "source": [
        "# Nova avaliação a ser classificada\n",
        "nova_avaliacao = input(\"O que você achou do filme 101 Dalmatas? \")\n",
        "\n",
        "# Classificar a nova avaliação\n",
        "sentimento = classificar_avaliacao(nova_avaliacao, avaliacoes)\n",
        "print(f\"A avaliação '{nova_avaliacao}' foi classificada como: {sentimento}\")"
      ],
      "metadata": {
        "colab": {
          "base_uri": "https://localhost:8080/"
        },
        "id": "HH5aR_Rbp2uu",
        "outputId": "f4f0cff1-8e62-42ed-8366-0097eddd34c0"
      },
      "execution_count": 9,
      "outputs": [
        {
          "output_type": "stream",
          "name": "stdout",
          "text": [
            "O que você achou do filme 101 Dalmatas? ok\n",
            "A avaliação 'ok' foi classificada como: Negativo\n"
          ]
        }
      ]
    },
    {
      "cell_type": "markdown",
      "source": [
        "- **Quinta etapa – Treine com um novo modelo de dados**"
      ],
      "metadata": {
        "id": "efDW-09DqNFS"
      }
    },
    {
      "cell_type": "code",
      "source": [
        "avaliacoes = [\n",
        "   (\"Filme incrível! Adorei a atuação, roteiro e direção.\", \"Positivo\"),\n",
        "   (\"Roteiro fraco, atuação ruim, não recomendo. Perda de tempo.\", \"Negativo\"),\n",
        "   (\"Atuação boa, mas filme um pouco longo e arrastado.\", \"Positivo\"),\n",
        "   (\"Péssimo! Perdi meu tempo, dinheiro e paciência. Horrível.\", \"Negativo\"),\n",
        "   (\"Amei! Elenco maravilhoso, fotografia impecável. Recomendo muito!\", \"Positivo\"),\n",
        "   (\"Chato, previsível e sem graça. Saí no meio do filme.\", \"Negativo\"),\n",
        "   (\"Uma obra-prima! Roteiro inteligente, atuações memoráveis.\", \"Positivo\"),\n",
        "   (\"Cansativo, atuações forçadas, final decepcionante.\", \"Negativo\"),\n",
        "   (\"Divertido e emocionante! Ótimo para assistir com a família.\", \"Positivo\"),\n",
        "   (\"Clichê, sem originalidade, diálogos fracos. Não vale a pena.\", \"Negativo\"),\n",
        "   (\"Surpreendente e envolvente! Me prendeu do início ao fim.\", \"Positivo\"),\n",
        "   (\"Confuso, mal dirigido, edição amadora. Um desastre.\", \"Negativo\"),\n",
        "   (\"Atuação excelente, história cativante, trilha sonora perfeita.\", \"Positivo\"),\n",
        "   (\"Atuações medianas, história arrastada, trilha sonora irritante.\", \"Negativo\"),\n",
        "   (\"Roteiro bem construído, diálogos afiados, direção impecável.\", \"Positivo\"),\n",
        "   (\"Roteiro fraco, diálogos bobos, direção perdida.\", \"Negativo\"),\n",
        "   (\"Uma experiência cinematográfica única! Recomendo a todos os amantes do cinema.\", \"Positivo\"),\n",
        "   (\"Um filme esquecível, sem emoção e sem impacto.\", \"Negativo\"),\n",
        "   (\"Comovente e inspirador! Me fez refletir sobre a vida.\", \"Positivo\"),\n",
        "   (\"Decepcionante e frustrante! Não recomendo nem para passar o tempo.\", \"Negativo\"),\n",
        "   (\"Ótimo, gostei muito\",'Positivo')\n",
        "]"
      ],
      "metadata": {
        "id": "tGKOajS2qPWF"
      },
      "execution_count": 10,
      "outputs": []
    },
    {
      "cell_type": "code",
      "source": [
        "# Testando novamente após novo treinamento\n",
        "nova_avaliacao = input(\"O que você achou do filme 101 Dalmatas? \")\n",
        "\n",
        "# Classificar a nova avaliação\n",
        "sentimento = classificar_avaliacao(nova_avaliacao, avaliacoes)\n",
        "print(f\"A avaliação '{nova_avaliacao}' foi classificada como: {sentimento}\")"
      ],
      "metadata": {
        "colab": {
          "base_uri": "https://localhost:8080/"
        },
        "id": "1JHCxkZ9q4Uq",
        "outputId": "cf96713e-cbb0-43d2-c0b7-9b9453157f25"
      },
      "execution_count": 11,
      "outputs": [
        {
          "output_type": "stream",
          "name": "stdout",
          "text": [
            "O que você achou do filme 101 Dalmatas? ok\n",
            "A avaliação 'ok' foi classificada como: Positivo\n"
          ]
        }
      ]
    }
  ]
}